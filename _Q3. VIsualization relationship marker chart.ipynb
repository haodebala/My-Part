{
 "cells": [
  {
   "cell_type": "code",
   "execution_count": null,
   "metadata": {},
   "outputs": [],
   "source": [
    "#import the flie\n",
    "import pandas as pd\n",
    "tr = pd.read_excel('C:/1900-2019 temperature.xlsx',index_col=None)\n",
    "ad = pd.read_excel('C:/1900-2019 year frequency.xlsx',index_col=None)\n",
    "\n",
    "#import plotly\n",
    "import plotly as py\n",
    "import plotly.graph_objs as go\n",
    "from plotly.graph_objs import Scatter\n",
    "pyplot = py.offline.plot\n",
    "\n",
    "#plot marker chart\n",
    "tracel = Scatter(x = tr2['Lowess'], y = ad['Frequency'],mode='markers',\n",
    "                 marker = dict(size=15,sizemode='area',color=\"#71EFFE\",\n",
    "                               opacity=0.7,line=dict(width=1,color='white')))\n",
    "data = [tracel]\n",
    "layout = go.Layout(title=\"<br><i>Tropical Cyclone & Land-Ocean Temperature 1900-2019</i>\",titlefont=dict(size=25,color='#72798C',family = \"Times New Roman\",),\n",
    "                   legend=dict(x=1,y=1,font=dict(size=19,color='#72798C',family = \"Times New Roman\")),\n",
    "                   xaxis=dict(title='Lowess (Land-Ocean Temperature)',\n",
    "                              linecolor=\"#1F2630\",\n",
    "                              gridcolor=\"#1F2630\",\n",
    "                              titlefont=dict(size=19,color='#72798C',family = \"Times New Roman\"),\n",
    "                              tickfont=dict(size=17,color='#72798C',family = \"Times New Roman\")),\n",
    "                   yaxis=dict(title='Frequency (Tropical Cyclone)',\n",
    "                              linecolor=\"#1F2630\",\n",
    "                              gridcolor=\"#4C4E50\",\n",
    "                              titlefont=dict(size=19,color='#72798C',family = \"Times New Roman\"),\n",
    "                              tickfont=dict(size=17,color='#72798C',family = \"Times New Roman\")),\n",
    "                   plot_bgcolor='#1F2630',paper_bgcolor=\"#1F2630\")\n",
    "fig = go.Figure(data = data,layout = layout)\n",
    "\n",
    "#show the chart\n",
    "pyplot(fig)\n",
    "\n",
    "#upload the chart\n",
    "import chart_studio\n",
    "username = 'haodebala'\n",
    "api_key = #'secret'\n",
    "chart_studio.tools.set_credentials_file(username=username,api_key=api_key)\n",
    "import chart_studio.plotly as py\n",
    "import chart_studio.tools as tls\n",
    "py.plot(fig,filename = 'relationship',auto_open=True)"
   ]
  }
 ],
 "metadata": {
  "kernelspec": {
   "display_name": "Python 3",
   "language": "python",
   "name": "python3"
  },
  "language_info": {
   "codemirror_mode": {
    "name": "ipython",
    "version": 3
   },
   "file_extension": ".py",
   "mimetype": "text/x-python",
   "name": "python",
   "nbconvert_exporter": "python",
   "pygments_lexer": "ipython3",
   "version": "3.8.3"
  }
 },
 "nbformat": 4,
 "nbformat_minor": 4
}
