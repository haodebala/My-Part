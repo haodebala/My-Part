{
 "cells": [
  {
   "cell_type": "code",
   "execution_count": 1,
   "metadata": {},
   "outputs": [
    {
     "name": "stdout",
     "output_type": "stream",
     "text": [
      "<class 'pandas.core.frame.DataFrame'>\n"
     ]
    },
    {
     "data": {
      "text/html": [
       "<div>\n",
       "<style scoped>\n",
       "    .dataframe tbody tr th:only-of-type {\n",
       "        vertical-align: middle;\n",
       "    }\n",
       "\n",
       "    .dataframe tbody tr th {\n",
       "        vertical-align: top;\n",
       "    }\n",
       "\n",
       "    .dataframe thead th {\n",
       "        text-align: right;\n",
       "    }\n",
       "</style>\n",
       "<table border=\"1\" class=\"dataframe\">\n",
       "  <thead>\n",
       "    <tr style=\"text-align: right;\">\n",
       "      <th></th>\n",
       "      <th>Level 5</th>\n",
       "      <th>Level 4</th>\n",
       "      <th>Level 3</th>\n",
       "      <th>Level 2</th>\n",
       "      <th>Level 1</th>\n",
       "      <th>Tropical Storm</th>\n",
       "      <th>Tropical Dpression</th>\n",
       "    </tr>\n",
       "  </thead>\n",
       "  <tbody>\n",
       "    <tr>\n",
       "      <th>2009</th>\n",
       "      <td>1</td>\n",
       "      <td>2</td>\n",
       "      <td>1</td>\n",
       "      <td>2</td>\n",
       "      <td>11</td>\n",
       "      <td>6</td>\n",
       "      <td>0</td>\n",
       "    </tr>\n",
       "  </tbody>\n",
       "</table>\n",
       "</div>"
      ],
      "text/plain": [
       "      Level 5  Level 4  Level 3  Level 2  Level 1  Tropical Storm  \\\n",
       "2009        1        2        1        2       11               6   \n",
       "\n",
       "      Tropical Dpression  \n",
       "2009                   0  "
      ]
     },
     "execution_count": 1,
     "metadata": {},
     "output_type": "execute_result"
    }
   ],
   "source": [
    "import pandas as pd\n",
    "import numpy as np\n",
    "tr = pd.read_excel('C:/ts.xlsx',skiprows=6,index_col=None)\n",
    "print(type(tr))\n",
    "tr1=tr[['Year','Country','Continent','Dis Mag Value','Dis Mag Scale']]\n",
    "\n",
    "#extract the data in 2009\n",
    "tr2009=tr1[(tr1['Year'] == 2009)]\n",
    "\n",
    "#screen different levels of tropical cyclone and save them through loc\n",
    "def asd(a):\n",
    "    return 215 <= a \n",
    "tryy=tr2009.loc[tr2009['Dis Mag Value'].apply(asd)]\n",
    "\n",
    "def asd4(e):\n",
    "    return 209 <= e < 252\n",
    "tryy4=tr2009.loc[tr2009['Dis Mag Value'].apply(asd4)]\n",
    "\n",
    "def asd3(f):\n",
    "    return 178 <= f < 209\n",
    "tryy3=tr2009.loc[tr2009['Dis Mag Value'].apply(asd3)]\n",
    "\n",
    "def asd2(g):\n",
    "    return 154 <= g < 177\n",
    "tryy2=tr2009.loc[tr2009['Dis Mag Value'].apply(asd2)]\n",
    "\n",
    "def asd1(h):\n",
    "    return 119 <= h < 154\n",
    "tryy1=tr2009.loc[tr2009['Dis Mag Value'].apply(asd1)]\n",
    "\n",
    "def asd0(i):\n",
    "    return 63 <= i < 119\n",
    "tryy0=tr2009.loc[tr2009['Dis Mag Value'].apply(asd0)]\n",
    "\n",
    "def asd00(j):\n",
    "    return 33 <= j < 63\n",
    "tryy00=tr2009.loc[tr2009['Dis Mag Value'].apply(asd00)]\n",
    "\n",
    "#count the item amount in each DataFrame\n",
    "dis=tryy.shape[0]\n",
    "dis4=tryy4.shape[0]\n",
    "dis3=tryy3.shape[0]\n",
    "dis2=tryy2.shape[0]\n",
    "dis1=tryy1.shape[0]\n",
    "dis0=tryy0.shape[0]\n",
    "dis00=tryy00.shape[0]\n",
    "\n",
    "#recreate a DataFrame \n",
    "tr7=pd.DataFrame({'Level 5':dis,'Level 4':dis4,'Level 3':dis3,\n",
    "                 'Level 2':dis2,'Level 1':dis1,'Tropical Storm':dis0,\n",
    "                 'Tropical Dpression':dis00},index=['2009'])\n",
    "\n",
    "\n",
    "tr7.to_excel('C:/2009 Storm Level.xlsx')\n",
    "\n",
    "tr7"
   ]
  },
  {
   "cell_type": "code",
   "execution_count": null,
   "metadata": {},
   "outputs": [],
   "source": []
  }
 ],
 "metadata": {
  "kernelspec": {
   "display_name": "Python 3",
   "language": "python",
   "name": "python3"
  },
  "language_info": {
   "codemirror_mode": {
    "name": "ipython",
    "version": 3
   },
   "file_extension": ".py",
   "mimetype": "text/x-python",
   "name": "python",
   "nbconvert_exporter": "python",
   "pygments_lexer": "ipython3",
   "version": "3.8.3"
  }
 },
 "nbformat": 4,
 "nbformat_minor": 4
}
