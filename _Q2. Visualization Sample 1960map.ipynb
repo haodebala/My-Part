{
 "cells": [
  {
   "cell_type": "code",
   "execution_count": 1,
   "metadata": {},
   "outputs": [],
   "source": [
    "#import file\n",
    "import pandas as pd\n",
    "tr = pd.read_excel('C:/1900-2019.xlsx',skiprows=6,index_col=None)\n",
    "\n",
    "#re-process the data to get national frequency each year with ISO codes\n",
    "tr1=tr[['Year','Country','Continent','Dis Mag Value','Dis Mag Scale','ISO']]\n",
    "groups=tr1.groupby(['Year','Country','ISO'])\n",
    "\n",
    "c=groups['Country'].count()\n",
    "\n",
    "tr2=pd.DataFrame({'Frequency':c})\n",
    "tr2.to_excel('C:/1900-2019 for visualization.xlsx')"
   ]
  },
  {
   "cell_type": "code",
   "execution_count": 2,
   "metadata": {},
   "outputs": [
    {
     "name": "stdout",
     "output_type": "stream",
     "text": [
      "175\n",
      "188\n"
     ]
    }
   ],
   "source": [
    "#import file\n",
    "tr = pd.read_excel('C:/1900-2019 for visualization.xlsx',index_col=None)\n",
    "\n",
    "#locate the data in year 1960\n",
    "index = tr[tr.Year == 1960].index.tolist()[0]  \n",
    "print(index)\n",
    "index = tr[tr.Year == 1961].index.tolist()[0]\n",
    "print(index)"
   ]
  },
  {
   "cell_type": "code",
   "execution_count": null,
   "metadata": {},
   "outputs": [],
   "source": [
    "#extract the data \n",
    "tr1=tr.iloc[175:188]\n",
    "tr2=tr1[['Country','Frequency','ISO']]\n",
    "tr2.reset_index(drop=True, inplace=True)\n",
    "\n",
    "#import plotly\n",
    "import plotly as py\n",
    "import plotly.graph_objs as go\n",
    "pyplot = py.offline.plot\n",
    "\n",
    "#plot the map\n",
    "fig = go.Figure(data=go.Choropleth(\n",
    "    locations = tr2['ISO'],\n",
    "    z = tr2['Frequency'],\n",
    "    text = tr2['Country'],\n",
    "    colorscale = [[0, '#01171C'], [0.5, '#71EFFE'], [1.0, '#ECFEFF']],\n",
    "    autocolorscale=False,\n",
    "    reversescale=False,\n",
    "    marker_line_color='#252E3F',\n",
    "    marker_line_width=0.1,\n",
    "    colorbar_title = 'Frequency',colorbar_titlefont=dict(color='#72798C'),\n",
    "    colorbar_tickfont=dict(color='#72798C'),\n",
    "    colorbar_thickness=20,\n",
    "    zmin=1,zmax=10))\n",
    "fig.update_layout(title='<br><i>1960 Global Tropical Cyclone Frequency Distribution</i>',\n",
    "                  titlefont=dict(size=25,family = \"Times New Roman\",color='#72798C'),\n",
    "                  geo=dict(showframe=False,\n",
    "                           showcoastlines=False,\n",
    "                           projection_type='equirectangular',\n",
    "                           bgcolor= 'rgba(0,0,0,0)',\n",
    "                           lakecolor='#252E3F',\n",
    "                           landcolor='#1E232D',\n",
    "                           subunitcolor='#252E3F'),\n",
    "                  annotations = [dict(x=0.55,y=0.001,\n",
    "                                      xref='paper',yref='paper',\n",
    "                                      text='Data Source: <a href=\"https://www.emdat.be/\">EM-DAT Database</a>',\n",
    "                                      showarrow = False)],\n",
    "                  paper_bgcolor='#252E3F',plot_bgcolor='#252E3F')\n",
    "pyplot = py.offline.plot\n",
    "\n",
    "#show the map\n",
    "pyplot(fig)\n",
    "\n",
    "#upload the map to my plotly studio\n",
    "import chart_studio\n",
    "username = 'haodebala'\n",
    "api_key = #'secret'\n",
    "chart_studio.tools.set_credentials_file(username=username,api_key=api_key)\n",
    "import chart_studio.plotly as py\n",
    "import chart_studio.tools as tls\n",
    "py.plot(fig,filename = '1960map',auto_open=True)"
   ]
  }
 ],
 "metadata": {
  "kernelspec": {
   "display_name": "Python 3",
   "language": "python",
   "name": "python3"
  },
  "language_info": {
   "codemirror_mode": {
    "name": "ipython",
    "version": 3
   },
   "file_extension": ".py",
   "mimetype": "text/x-python",
   "name": "python",
   "nbconvert_exporter": "python",
   "pygments_lexer": "ipython3",
   "version": "3.8.3"
  }
 },
 "nbformat": 4,
 "nbformat_minor": 4
}
