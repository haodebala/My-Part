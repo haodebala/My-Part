{
 "cells": [
  {
   "cell_type": "code",
   "execution_count": 1,
   "metadata": {},
   "outputs": [],
   "source": [
    "#import file\n",
    "import pandas as pd\n",
    "tr = pd.read_excel('C:/1900-2019 nation frequency.xlsx',index_col=None)"
   ]
  },
  {
   "cell_type": "code",
   "execution_count": 2,
   "metadata": {},
   "outputs": [
    {
     "name": "stdout",
     "output_type": "stream",
     "text": [
      "175\n"
     ]
    }
   ],
   "source": [
    "#get the location of a specific year\n",
    "index = tr[tr.Year == 1960].index.tolist()[0]  \n",
    "print(index)"
   ]
  },
  {
   "cell_type": "code",
   "execution_count": 3,
   "metadata": {},
   "outputs": [
    {
     "name": "stdout",
     "output_type": "stream",
     "text": [
      "188\n"
     ]
    }
   ],
   "source": [
    "index = tr[tr.Year == 1961].index.tolist()[0]  \n",
    "print(index)"
   ]
  },
  {
   "cell_type": "code",
   "execution_count": 8,
   "metadata": {},
   "outputs": [
    {
     "data": {
      "text/plain": [
       "['Anguilla',\n",
       " 'Antigua and Barbuda',\n",
       " 'Bangladesh',\n",
       " 'Hong Kong',\n",
       " 'Japan',\n",
       " 'Martinique',\n",
       " 'Netherlands Antilles',\n",
       " 'Niue',\n",
       " 'Philippines (the)',\n",
       " 'Puerto Rico',\n",
       " 'Saint Lucia',\n",
       " 'Taiwan (Province of China)',\n",
       " 'United States of America (the)']"
      ]
     },
     "execution_count": 8,
     "metadata": {},
     "output_type": "execute_result"
    }
   ],
   "source": [
    "tr1=tr.iloc[175:188]\n",
    "tr1.reset_index(drop=True, inplace=True)\n",
    "\n",
    "#convert DataFrame into list\n",
    "tr1['Country'].values.tolist()"
   ]
  },
  {
   "cell_type": "code",
   "execution_count": 9,
   "metadata": {},
   "outputs": [
    {
     "name": "stdout",
     "output_type": "stream",
     "text": [
      "['AIA', 'ATG', 'BGD', 'HKG', 'JPN', 'MTQ', 'Unknown code', 'NIU', 'Unknown code', 'PRI', 'LCA', 'Unknown code', 'Unknown code']\n"
     ]
    }
   ],
   "source": [
    "#import library for converting country names to ISO codes\n",
    "import pycountry\n",
    "\n",
    "#conver country names to ISO codes\n",
    "input_countries = ['Anguilla',\n",
    " 'Antigua and Barbuda',\n",
    " 'Bangladesh',\n",
    " 'Hong Kong',\n",
    " 'Japan',\n",
    " 'Martinique',\n",
    " 'Netherlands Antilles',\n",
    " 'Niue',\n",
    " 'Philippines (the)',\n",
    " 'Puerto Rico',\n",
    " 'Saint Lucia',\n",
    " 'Taiwan (Province of China)',\n",
    " 'United States of America (the)']\n",
    "\n",
    "countries = {}\n",
    "for country in pycountry.countries:\n",
    "    countries[country.name] = country.alpha_3\n",
    "\n",
    "codes = [countries.get(country, 'Unknown code') for country in input_countries]\n",
    "\n",
    "print(codes) "
   ]
  },
  {
   "cell_type": "code",
   "execution_count": 10,
   "metadata": {},
   "outputs": [
    {
     "name": "stdout",
     "output_type": "stream",
     "text": [
      "['AIA', 'ATG', 'BGD', 'HKG', 'JPN', 'MTQ', 'Unknown code', 'NIU', 'PHL', 'PRI', 'LCA', 'TWN', 'USA']\n"
     ]
    }
   ],
   "source": [
    "#manually modify the contry names\n",
    "input_countries = ['Anguilla',\n",
    " 'Antigua and Barbuda',\n",
    " 'Bangladesh',\n",
    " 'Hong Kong',\n",
    " 'Japan',\n",
    " 'Martinique',\n",
    " 'Netherlands Antilles',\n",
    " 'Niue',\n",
    " 'Philippines',\n",
    " 'Puerto Rico',\n",
    " 'Saint Lucia',\n",
    " 'Taiwan, Province of China',\n",
    " 'United States']\n",
    "\n",
    "countries = {}\n",
    "for country in pycountry.countries:\n",
    "    countries[country.name] = country.alpha_3\n",
    "\n",
    "codes = [countries.get(country, 'Unknown code') for country in input_countries]\n",
    "\n",
    "print(codes) "
   ]
  },
  {
   "cell_type": "code",
   "execution_count": null,
   "metadata": {},
   "outputs": [],
   "source": [
    "#manually modify ISO and add column 'CODE'\n",
    "tr1['CODE']=['AIA', 'ATG', 'BGD', 'HKG', 'JPN', 'MTQ', 'ANT', 'NIU', 'PHL', 'PRI', 'LCA', 'TWN', 'USA']"
   ]
  }
 ],
 "metadata": {
  "kernelspec": {
   "display_name": "Python 3",
   "language": "python",
   "name": "python3"
  },
  "language_info": {
   "codemirror_mode": {
    "name": "ipython",
    "version": 3
   },
   "file_extension": ".py",
   "mimetype": "text/x-python",
   "name": "python",
   "nbconvert_exporter": "python",
   "pygments_lexer": "ipython3",
   "version": "3.8.3"
  }
 },
 "nbformat": 4,
 "nbformat_minor": 4
}
