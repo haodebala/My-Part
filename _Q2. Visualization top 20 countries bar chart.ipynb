{
 "cells": [
  {
   "cell_type": "code",
   "execution_count": 3,
   "metadata": {},
   "outputs": [],
   "source": [
    "#import file\n",
    "import pandas as pd\n",
    "tr = pd.read_excel('C:/1900-2019 country frequency.xlsx',index_col='Country')\n",
    "\n",
    "#convert it to series\n",
    "series = pd.Series(tr5['Frequency'], index=tr5.index)\n",
    "\n",
    "#import plotly\n",
    "import plotly as py\n",
    "import plotly.graph_objs as go\n",
    "pyplot = py.offline.plot\n",
    "\n",
    "#plot bar chart\n",
    "trance=[go.Bar(x=series.index.tolist(),y=series.values.tolist(),width=0.6,\n",
    "               marker=dict(color=\"#2CFEC1\",line=dict(color=\"#21DCC1\",width=0.5)))]\n",
    "layout=go.Layout(title='<br><i>The Total Frequency of Tropical Cyclone in Top 20 Countries 1900-2019</i>',\n",
    "                 titlefont=dict(size=25,color='#72798C',family = \"Times New Roman\"),\n",
    "                xaxis=dict(title='<br><i>Country</i>',\n",
    "                           titlefont=dict(size=19,color='#72798C',family = \"Times New Roman\"),\n",
    "                           tickfont=dict(size=17,color='#72798C',family = \"Times New Roman\"),\n",
    "                           linecolor=\"#1F2630\",\n",
    "                           gridcolor=\"#1F2630\"),\n",
    "                yaxis=dict(titlefont=dict(size=19,color='#72798C',family = \"Times New Roman\"),\n",
    "                           tickfont=dict(size=17,color='#72798C',family = \"Times New Roman\"),\n",
    "                           linecolor=\"#1F2630\",\n",
    "                           gridcolor=\"#4C4E50\"),\n",
    "                 plot_bgcolor='#1F2630',paper_bgcolor='#1F2630')\n",
    "figure_basic=go.Figure(data=trance,layout=layout)\n",
    "\n",
    "#show the chart\n",
    "pyplot(figure_basic)\n",
    "\n",
    "#upload the cgart\n",
    "import chart_studio\n",
    "username = 'haodebala'\n",
    "api_key = #'secret'\n",
    "chart_studio.tools.set_credentials_file(username=username,api_key=api_key)\n",
    "import chart_studio.plotly as py\n",
    "import chart_studio.tools as tls\n",
    "py.plot(figure_basic,filename = '20countries',auto_open=True)"
   ]
  }
 ],
 "metadata": {
  "kernelspec": {
   "display_name": "Python 3",
   "language": "python",
   "name": "python3"
  },
  "language_info": {
   "codemirror_mode": {
    "name": "ipython",
    "version": 3
   },
   "file_extension": ".py",
   "mimetype": "text/x-python",
   "name": "python",
   "nbconvert_exporter": "python",
   "pygments_lexer": "ipython3",
   "version": "3.8.3"
  }
 },
 "nbformat": 4,
 "nbformat_minor": 4
}
