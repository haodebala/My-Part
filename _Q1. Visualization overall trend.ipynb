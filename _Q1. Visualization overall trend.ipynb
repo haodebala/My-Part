{
 "cells": [
  {
   "cell_type": "code",
   "execution_count": null,
   "metadata": {},
   "outputs": [],
   "source": [
    "#impoert file\n",
    "import pandas as pd\n",
    "tr = pd.read_excel('C:/1900-2019 year frequency.xlsx',index_col=None)\n",
    "\n",
    "#import plotly\n",
    "import plotly as py\n",
    "import plotly.graph_objs as go\n",
    "from plotly.graph_objs import Scatter\n",
    "pyplot = py.offline.plot\n",
    "\n",
    "#plot line chart\n",
    "tracel = Scatter(x = tr['Year'], y = tr['Frequency'],mode='lines',\n",
    "                  name='frequency',line = dict(width=3,color=\"#71EFFE\",shape=\"spline\"))\n",
    "data = [tracel]\n",
    "layout = go.Layout(title=\"<br><i>The Trend of Tropical Cyclone 1900-2019</i>\",titlefont=dict(size=25,color='#72798C',family = \"Times New Roman\",),\n",
    "                   legend=dict(x=1,y=1,font=dict(size=19,color='#72798C',family = \"Times New Roman\")),\n",
    "                   xaxis=dict(title='Year',\n",
    "                              linecolor=\"#1F2630\",\n",
    "                              gridcolor=\"#1F2630\",\n",
    "                              titlefont=dict(size=19,color='#72798C',family = \"Times New Roman\"),\n",
    "                              tickfont=dict(size=17,color='#72798C',family = \"Times New Roman\")),\n",
    "                   yaxis=dict(title='Frequency',\n",
    "                              linecolor=\"#1F2630\",\n",
    "                              gridcolor=\"#4C4E50\",\n",
    "                              titlefont=dict(size=19,color='#72798C',family = \"Times New Roman\"),\n",
    "                              tickfont=dict(size=17,color='#72798C',family = \"Times New Roman\")),\n",
    "                   plot_bgcolor='#1F2630',paper_bgcolor=\"#1F2630\")\n",
    "fig = go.Figure(data = data,layout = layout)\n",
    "\n",
    "#show the chart\n",
    "pyplot(fig)\n",
    "\n",
    "#upload the chart to my plotly studio\n",
    "import chart_studio\n",
    "username = 'haodebala'\n",
    "api_key = #'secret'\n",
    "chart_studio.tools.set_credentials_file(username=username,api_key=api_key)\n",
    "import chart_studio.plotly as py\n",
    "import chart_studio.tools as tls\n",
    "py.plot(fig,filename = 'overalltrend',auto_open=True)"
   ]
  }
 ],
 "metadata": {
  "kernelspec": {
   "display_name": "Python 3",
   "language": "python",
   "name": "python3"
  },
  "language_info": {
   "codemirror_mode": {
    "name": "ipython",
    "version": 3
   },
   "file_extension": ".py",
   "mimetype": "text/x-python",
   "name": "python",
   "nbconvert_exporter": "python",
   "pygments_lexer": "ipython3",
   "version": "3.8.3"
  }
 },
 "nbformat": 4,
 "nbformat_minor": 4
}
