{
 "cells": [
  {
   "cell_type": "code",
   "execution_count": null,
   "metadata": {},
   "outputs": [],
   "source": [
    "#impoert file\n",
    "import pandas as pd\n",
    "tr1 = pd.read_excel('C:/2009-2019 Storm Level.xlsx')\n",
    "\n",
    "#import plotly\n",
    "import plotly as py\n",
    "import plotly.graph_objs as go\n",
    "from plotly.graph_objs import Scatter\n",
    "\n",
    "#change the cloumns's name avoid error\n",
    "tr1.rename(columns={'Level 5':'Level5'}, inplace = True)\n",
    "tr1.rename(columns={'Level 4':'Level4'}, inplace = True)\n",
    "tr1.rename(columns={'Level 3':'Level3'}, inplace = True)\n",
    "tr1.rename(columns={'Level 2':'Level2'}, inplace = True)\n",
    "tr1.rename(columns={'Level 1':'Level1'}, inplace = True)\n",
    "tr1.rename(columns={'Tropical Storm':'TropicalStorm'}, inplace = True)\n",
    "tr1.rename(columns={'Tropical Dpression':'TropicalDpression'}, inplace = True)\n",
    "\n",
    "#plot line chart\n",
    "tracel = Scatter(x = tr1['Year'], y = tr1['Level5'],mode='lines',\n",
    "                  name='Level 5',line = dict(width=3.5,color=\"#71EFFE\",shape=\"spline\"))\n",
    "trace2 = Scatter(x = tr1['Year'], y = tr1['Level4'],mode='lines',\n",
    "                 name='Level 4',line = dict(width=3.5,color=\"#26CAF0\",shape=\"spline\"))\n",
    "trace4 = Scatter(x = tr1['Year'], y = tr1['Level2'],mode='lines',\n",
    "                 name='Level 2',line = dict(width=3.5,color=\"#F61718\",shape=\"spline\"))\n",
    "trace5 = Scatter(x = tr1['Year'], y = tr1['Level1'],mode='lines',\n",
    "                 name='Level 1',line = dict(width=3.5,color=\"#FF4747\",shape=\"spline\"))\n",
    "data = [tracel,trace2,trace4,trace5]\n",
    "layout = go.Layout(title=\"<br><i>The Trend of Tropical Cyclone in Different Levels 2000-2019</i>\",titlefont=dict(size=24,color='#72798C',family = \"Times New Roman\",),\n",
    "                   legend=dict(x=1,y=1,font=dict(size=19,color='#72798C',family = \"Times New Roman\")),\n",
    "                   xaxis=dict(title='Year',\n",
    "                              linecolor=\"#4C4E50\",\n",
    "                              gridcolor=\"#4C4E50\",\n",
    "                              titlefont=dict(size=19,color='#72798C',family = \"Times New Roman\"),\n",
    "                              tickfont=dict(size=17,color='#72798C',family = \"Times New Roman\")),\n",
    "                   yaxis=dict(title='Frequency',\n",
    "                              linecolor=\"#4C4E50\",\n",
    "                              gridcolor=\"#4C4E50\",\n",
    "                              titlefont=dict(size=19,color='#72798C',family = \"Times New Roman\"),\n",
    "                              tickfont=dict(size=17,color='#72798C',family = \"Times New Roman\")),\n",
    "                   plot_bgcolor='#1F2630',paper_bgcolor=\"#1F2630\")\n",
    "fig = go.Figure(data = data,layout = layout)\n",
    "\n",
    "#offline plot a graph in html format\n",
    "pyplot = py.offline.plot\n",
    "pyplot(fig)\n",
    "\n",
    "#upload the chart to my plotly studio\n",
    "import chart_studio\n",
    "username = 'haodebala'\n",
    "api_key = #'secret'\n",
    "chart_studio.tools.set_credentials_file(username=username,api_key=api_key)\n",
    "import chart_studio.plotly as py\n",
    "import chart_studio.tools as tls\n",
    "py.plot(fig,filename = 'leveltrend',auto_open=True)"
   ]
  }
 ],
 "metadata": {
  "kernelspec": {
   "display_name": "Python 3",
   "language": "python",
   "name": "python3"
  },
  "language_info": {
   "codemirror_mode": {
    "name": "ipython",
    "version": 3
   },
   "file_extension": ".py",
   "mimetype": "text/x-python",
   "name": "python",
   "nbconvert_exporter": "python",
   "pygments_lexer": "ipython3",
   "version": "3.8.3"
  }
 },
 "nbformat": 4,
 "nbformat_minor": 4
}
